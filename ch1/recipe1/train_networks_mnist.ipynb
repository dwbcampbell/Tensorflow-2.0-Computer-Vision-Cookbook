{
 "cells": [
  {
   "cell_type": "code",
   "execution_count": 1,
   "metadata": {},
   "outputs": [],
   "source": [
    "from sklearn.model_selection import train_test_split\n",
    "from sklearn.preprocessing import LabelBinarizer\n",
    "from keras import Input\n",
    "from keras.datasets import mnist\n",
    "from keras.layers import Dense\n",
    "from keras.models import *"
   ]
  },
  {
   "cell_type": "code",
   "execution_count": 2,
   "metadata": {},
   "outputs": [],
   "source": [
    "(X_train, y_train), (X_test, y_test) = mnist.load_data()\n",
    "\n",
    "X_train = X_train.reshape((X_train.shape[0], 28 * 28 * 1))\n",
    "X_test = X_test.reshape((X_test.shape[0], 28 * 28 * 1))\n",
    "\n",
    "X_train = X_train.astype('float32') / 255.0\n",
    "X_test = X_test.astype('float32') / 255.0\n",
    "\n",
    "label_binarizer = LabelBinarizer()\n",
    "y_train = label_binarizer.fit_transform(y_train)\n",
    "y_test = label_binarizer.fit_transform(y_test)\n",
    "\n",
    "X_train, X_valid, y_train, y_valid = train_test_split(X_train, y_train, train_size=0.8)"
   ]
  },
  {
   "cell_type": "code",
   "execution_count": 3,
   "metadata": {},
   "outputs": [],
   "source": [
    "sequential_model = Sequential()\n",
    "sequential_model.add(Dense(256, input_shape=(28 * 28 * 1,), activation='sigmoid'))\n",
    "sequential_model.add(Dense(128, activation='sigmoid'))\n",
    "sequential_model.add(Dense(10, activation='softmax'))"
   ]
  },
  {
   "cell_type": "code",
   "execution_count": 4,
   "metadata": {},
   "outputs": [],
   "source": [
    "layers = [Dense(256, input_shape=(28 * 28 * 1,), activation='sigmoid'),\n",
    "          Dense(128, activation='sigmoid'),\n",
    "          Dense(10, activation='softmax')]\n",
    "sequential_model2 = Sequential(layers)"
   ]
  },
  {
   "cell_type": "code",
   "execution_count": 5,
   "metadata": {},
   "outputs": [],
   "source": [
    "input_layer = Input(shape=(28 * 28 * 1,))\n",
    "dense_1 = Dense(256, activation='sigmoid')(input_layer)\n",
    "dense_2 = Dense(128, activation='sigmoid')(dense_1)\n",
    "predictions = Dense(10, activation='softmax')(dense_2)\n",
    "functional_model = Model(inputs=input_layer, outputs=predictions)"
   ]
  },
  {
   "cell_type": "code",
   "execution_count": 6,
   "metadata": {},
   "outputs": [],
   "source": [
    "class ClassModel(Model):\n",
    "    def __init__(self):\n",
    "        super(ClassModel, self).__init__()\n",
    "\n",
    "        self.dense_1 = Dense(256, activation='sigmoid')\n",
    "        self.dense_2 = Dense(256, activation='sigmoid')\n",
    "        self.predictions = Dense(10, activation='softmax')\n",
    "\n",
    "    def call(self, inputs, **kwargs):\n",
    "        x = self.dense_1(inputs)\n",
    "        x = self.dense_2(x)\n",
    "\n",
    "        return self.predictions(x)\n",
    "\n",
    "class_model = ClassModel()"
   ]
  },
  {
   "cell_type": "code",
   "execution_count": 7,
   "metadata": {},
   "outputs": [],
   "source": [
    "models = {\n",
    "    'sequential_model': sequential_model,\n",
    "    'sequential_model_list': sequential_model2,\n",
    "    'functional_model': functional_model,\n",
    "    'class_model': class_model\n",
    "}"
   ]
  },
  {
   "cell_type": "code",
   "execution_count": 8,
   "metadata": {},
   "outputs": [
    {
     "name": "stdout",
     "output_type": "stream",
     "text": [
      "Compiling model: sequential_model\n",
      "Training model: sequential_model\n",
      "Testing model: sequential_model. \n",
      "Accuracy: 0.9797999858856201\n",
      "---\n",
      "Compiling model: sequential_model_list\n",
      "Training model: sequential_model_list\n",
      "Testing model: sequential_model_list. \n",
      "Accuracy: 0.9804999828338623\n",
      "---\n",
      "Compiling model: functional_model\n",
      "Training model: functional_model\n",
      "Testing model: functional_model. \n",
      "Accuracy: 0.9800999760627747\n",
      "---\n",
      "Compiling model: class_model\n",
      "Training model: class_model\n",
      "Testing model: class_model. \n",
      "Accuracy: 0.9811000227928162\n",
      "---\n"
     ]
    }
   ],
   "source": [
    "for name, model in models.items():\n",
    "    print(f'Compiling model: {name}')\n",
    "    model.compile(loss='categorical_crossentropy', optimizer='adam', metrics=['accuracy'])\n",
    "\n",
    "    print(f'Training model: {name}')\n",
    "    model.fit(X_train, y_train,\n",
    "              validation_data=(X_valid, y_valid),\n",
    "              epochs=50,\n",
    "              batch_size=256,\n",
    "              verbose=0)\n",
    "\n",
    "    _, accuracy = model.evaluate(X_test, y_test, verbose=0)\n",
    "    print(f'Testing model: {name}. \\nAccuracy: {accuracy}')\n",
    "    print('---')"
   ]
  }
 ],
 "metadata": {
  "kernelspec": {
   "display_name": "venv",
   "language": "python",
   "name": "python3"
  },
  "language_info": {
   "codemirror_mode": {
    "name": "ipython",
    "version": 3
   },
   "file_extension": ".py",
   "mimetype": "text/x-python",
   "name": "python",
   "nbconvert_exporter": "python",
   "pygments_lexer": "ipython3",
   "version": "3.10.3"
  }
 },
 "nbformat": 4,
 "nbformat_minor": 2
}
